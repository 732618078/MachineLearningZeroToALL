{
 "cells": [
  {
   "cell_type": "markdown",
   "metadata": {},
   "source": [
    "这里将吴恩达的Coursera的机器学习代码进行python上的实现。[课程地址](https://www.coursera.org/course/ml)\n",
    "### 2 . 逻辑回归\n",
    "这个笔记主要包括机器学习的第二次编程练习。具体实现要求见[这里](ex2.pdf)\n"
   ]
  },
  {
   "cell_type": "markdown",
   "metadata": {},
   "source": [
    "额外练习：  \n",
    "在本章，我们将接触到numpy的几个乘法，在这里进行练习以便能够更好熟悉掌握他们的用法  \n",
    "* np.dot()\n",
    "* np.multiply()\n",
    "* np 的\\*\n",
    "\n",
    "介绍： \n",
    "> * np.dot() 为矩阵操作，即 对于M\\* N 的A矩阵于N \\*M的B矩阵进行dot运算，得到将是M\\* M的矩阵  \n",
    "> * np.multiply() 对应的数字相城。也就C[i,j]=A[i,j] \\* A[i,j]  \n",
    "> * \\*星号操作符 这个操作在数组和矩阵的操作结果会不相同。具体表现在当操作的是数组时候，星号将表现为multiply的性质，当操作为矩阵时候，表现为 矩阵操作  \n",
    "\n",
    "让我们更加直观练习一下他们吧！\n"
   ]
  },
  {
   "cell_type": "code",
   "execution_count": 1,
   "metadata": {
    "collapsed": true
   },
   "outputs": [],
   "source": [
    "import numpy as np\n",
    "import matplotlib.pyplot as plt\n",
    "% matplotlib inline"
   ]
  },
  {
   "cell_type": "code",
   "execution_count": 2,
   "metadata": {
    "scrolled": true
   },
   "outputs": [
    {
     "name": "stdout",
     "output_type": "stream",
     "text": [
      "a :\n",
      "[[10 11]\n",
      " [12 13]]\n",
      "b:\n",
      " [[0 1]\n",
      " [2 3]]\n",
      "the dot result is\n",
      " [[22 43]\n",
      " [26 51]]\n",
      "the mul result is \n",
      "[[ 0 11]\n",
      " [24 39]]\n"
     ]
    }
   ],
   "source": [
    "a = np.arange(10,14).reshape(2,2)\n",
    "b = np.arange(0,4).reshape(2,2)\n",
    "dot_result = np.dot(a,b)\n",
    "mul_result = np.multiply(a,b)\n",
    "print (\"a :\\n%s\"%(a))\n",
    "print (\"b:\\n %s\"%(b))\n",
    "print ( \"the dot result is\\n %s\"%(dot_result))\n",
    "print (\"the mul result is \\n%s\"%(mul_result))"
   ]
  },
  {
   "cell_type": "markdown",
   "metadata": {},
   "source": [
    "这里演示\\*在数组和矩阵得到不同的结果。  \n",
    "此外在操作数组过程中，一定要弄清楚它的shape，否则会出现不同的结果。"
   ]
  },
  {
   "cell_type": "code",
   "execution_count": 3,
   "metadata": {},
   "outputs": [
    {
     "name": "stdout",
     "output_type": "stream",
     "text": [
      "[[ 0  2]\n",
      " [ 6 12]]\n",
      "[[ 4  7]\n",
      " [ 8 15]]\n"
     ]
    }
   ],
   "source": [
    "A = np.arange(1,5).reshape(2,2)\n",
    "B = np.arange(0,4).reshape(2,2)\n",
    "print A*B\n",
    "print (np.mat(A))*(np.mat(B)) "
   ]
  },
  {
   "cell_type": "markdown",
   "metadata": {
    "collapsed": true
   },
   "source": [
    "问题描述\n",
    "> * 在这部分的练习中，你将建立一个逻辑回归模型来预测一个学生是否被录取进大学。\n",
    "> * 假设你是大学部门的管理者，你想根据两次考试的结果来确定每个申请者的录取机会。 您可以从以前的申请人获得历史数据，您可以将其用作逻辑回归的训练集。 对于每个培训的例子，你有两个考试的申请人的分数和录取决定。"
   ]
  },
  {
   "cell_type": "code",
   "execution_count": 4,
   "metadata": {
    "collapsed": true
   },
   "outputs": [],
   "source": [
    "data = np.loadtxt(\"ex2data1.txt\",delimiter=\",\")\n",
    "X = data[:,0:-1]\n",
    "y = data[:,-1]"
   ]
  },
  {
   "cell_type": "markdown",
   "metadata": {},
   "source": [
    "#### 2.1.1数据显示\n",
    "可视化数据"
   ]
  },
  {
   "cell_type": "code",
   "execution_count": 5,
   "metadata": {},
   "outputs": [
    {
     "data": {
      "image/png": "[encoded data removed]",
      "text/plain": [
       "<matplotlib.figure.Figure at 0x163842b0>"
      ]
     },
     "metadata": {},
     "output_type": "display_data"
    }
   ],
   "source": [
    "def plot_data(X,y):\n",
    "    pos = np.where(y==1)    \n",
    "    neg = np.where(y==0)    \n",
    "    #作图\n",
    "    plt.figure(figsize=(12,8))\n",
    "    plt.plot(X[pos,0],X[pos,1],'bo')        # 蓝色表示录取\n",
    "    plt.plot(X[neg,0],X[neg,1],'rx')        # 红色表示没录取\n",
    "    plt.xlabel(\"Exam 1 Score\")\n",
    "    plt.ylabel(\"Exam 2 Score\")\n",
    "    plt.show()\n",
    "plot_data(X,y) "
   ]
  },
  {
   "cell_type": "markdown",
   "metadata": {},
   "source": [
    "可以看到在两类之间是有一点边界。那现在我们就来训练吧，找到这条分界线。让我们撸起柚子干起来！\n",
    "####  2.1.2 Sigmoid函数\n",
    "g 代表一个常用的逻辑函数（logistic function）为S形函数（Sigmoid function），公式为： \\\\[g\\left( z \\right)=\\frac{1}{1+{{e}^{-z}}}\\\\] \n",
    "合起来，我们得到逻辑回归模型的假设函数： \n",
    "\t\\\\[{{h}_{\\theta }}\\left( x \\right)=\\frac{1}{1+{{e}^{-{{\\theta }^{T}}X}}}\\\\] \n",
    "看起来很玄乎，让我们来定义这样的一个函数"
   ]
  },
  {
   "cell_type": "code",
   "execution_count": 6,
   "metadata": {
    "collapsed": true
   },
   "outputs": [],
   "source": [
    "def sigmoid(Z):\n",
    "    A = 1.0/(1+np.exp(-Z))\n",
    "    return A"
   ]
  },
  {
   "cell_type": "markdown",
   "metadata": {},
   "source": [
    "接下来，需要编写代价函数来评估结果。  \n",
    "代价函数描述为：  \n",
    "$J\\left( \\theta  \\right)=\\frac{1}{m}\\sum\\limits_{i=1}^{m}{[-{{y}^{(i)}}\\log \\left( {{h}_{\\theta }}\\left( {{x}^{(i)}} \\right) \\right)-\\left( 1-{{y}^{(i)}} \\right)\\log \\left( 1-{{h}_{\\theta }}\\left( {{x}^{(i)}} \\right) \\right)]}$  \n",
    "我们来定义一下："
   ]
  },
  {
   "cell_type": "code",
   "execution_count": 7,
   "metadata": {
    "collapsed": true
   },
   "outputs": [],
   "source": [
    "def cost(theta,X,y):\n",
    "    AL = sigmoid(np.dot(X,theta.T))\n",
    "    first = np.multiply(-y.T,np.log(AL))\n",
    "    second = np.multiply(1-y.T,np.log(1-AL))\n",
    "    cost = np.sum(first-second)\n",
    "    cost = cost/(len(X))\n",
    "    return cost"
   ]
  },
  {
   "cell_type": "markdown",
   "metadata": {},
   "source": [
    "#### 2.1.3初始化参数"
   ]
  },
  {
   "cell_type": "code",
   "execution_count": 8,
   "metadata": {
    "collapsed": true
   },
   "outputs": [],
   "source": [
    "insert_ones = np.ones(X.shape[0])\n",
    "X = np.c_[insert_ones,X]\n",
    "y = y.reshape(y.shape[0],1)\n",
    "theta = np.zeros(3)\n"
   ]
  },
  {
   "cell_type": "code",
   "execution_count": 9,
   "metadata": {},
   "outputs": [
    {
     "name": "stdout",
     "output_type": "stream",
     "text": [
      "(100L, 3L) (100L, 1L) (3L,)\n",
      "0.69314718056\n"
     ]
    }
   ],
   "source": [
    "print X.shape,y.shape,theta.shape\n",
    "print cost(theta,X,y)"
   ]
  },
  {
   "cell_type": "markdown",
   "metadata": {},
   "source": [
    "#### 2.1.3 梯度下降\n",
    "\n",
    "* 转化为向量化计算： $\\frac{1}{m} X^T( Sigmoid(X\\theta) - y )$\n",
    "$$\\frac{\\partial J\\left( \\theta  \\right)}{\\partial {{\\theta }_{j}}}=\\frac{1}{m}\\sum\\limits_{i=1}^{m}{({{h}_{\\theta }}\\left( {{x}^{(i)}} \\right)-{{y}^{(i)}})x_{_{j}}^{(i)}}$$"
   ]
  },
  {
   "cell_type": "code",
   "execution_count": 10,
   "metadata": {
    "collapsed": true
   },
   "outputs": [],
   "source": [
    "def gradientDescent(theta,X,y):\n",
    "    parameters = int(theta.ravel().shape[0])\n",
    "    grad = np.zeros(parameters)\n",
    "    \n",
    "    error = sigmoid(np.dot(X,theta.T))-y.T\n",
    "    for i in range(parameters):\n",
    "        term = np.multiply(error,X[:,i])\n",
    "        grad[i] = np.sum(term)/len(X)\n",
    "    return grad"
   ]
  },
  {
   "cell_type": "code",
   "execution_count": 11,
   "metadata": {},
   "outputs": [
    {
     "data": {
      "text/plain": [
       "array([ -0.1       , -12.00921659, -11.26284221])"
      ]
     },
     "execution_count": 11,
     "metadata": {},
     "output_type": "execute_result"
    }
   ],
   "source": [
    "gradientDescent(theta,X,y)"
   ]
  },
  {
   "cell_type": "code",
   "execution_count": 12,
   "metadata": {},
   "outputs": [
    {
     "data": {
      "text/plain": [
       "(array([-25.16131874,   0.20623159,   0.20147149]), 36, 0)"
      ]
     },
     "execution_count": 12,
     "metadata": {},
     "output_type": "execute_result"
    }
   ],
   "source": [
    "import scipy.optimize as opt\n",
    "result = opt.fmin_tnc(func=cost, x0=theta, fprime=gradientDescent, args=(X, y))\n",
    "result"
   ]
  },
  {
   "cell_type": "code",
   "execution_count": 13,
   "metadata": {
    "scrolled": true
   },
   "outputs": [
    {
     "data": {
      "text/plain": [
       "0.203497701589474"
      ]
     },
     "execution_count": 13,
     "metadata": {},
     "output_type": "execute_result"
    }
   ],
   "source": [
    "cost(result[0],X,y)"
   ]
  },
  {
   "cell_type": "markdown",
   "metadata": {},
   "source": [
    "接下来，编写一个函数用来对数据进行输出预测。这里我们使用\n",
    "\\\\[{{h}_{\\theta }}\\left( x \\right)=\\frac{1}{1+{{e}^{-{{\\theta }^{T}}X}}}\\\\] \n",
    "当${{h}_{\\theta }}$大于等于0.5时，预测 y=1\n",
    "\n",
    "当${{h}_{\\theta }}$小于0.5时，预测 y=0 。  \n",
    "让我们来进行开始编写预测函数吧。"
   ]
  },
  {
   "cell_type": "code",
   "execution_count": 14,
   "metadata": {
    "collapsed": true
   },
   "outputs": [],
   "source": [
    "def predict(theta,X):\n",
    "    h_theta = sigmoid(X*theta.T)\n",
    "    predict_result = [1 if x>=0.5 else 0 for x in h_theta]\n",
    "    return predict_result"
   ]
  },
  {
   "cell_type": "markdown",
   "metadata": {
    "collapsed": true
   },
   "source": [
    "接下来，我们看看我们预测的结果是多少吧！"
   ]
  },
  {
   "cell_type": "code",
   "execution_count": 15,
   "metadata": {},
   "outputs": [
    {
     "name": "stdout",
     "output_type": "stream",
     "text": [
      "accuracy = 89%\n"
     ]
    }
   ],
   "source": [
    "theta_min = np.matrix(result[0])\n",
    "predictions = predict(theta_min, X)\n",
    "correct = [1 if ((a == 1 and b == 1) or (a == 0 and b == 0)) else 0 for (a, b) in zip(predictions, y)]\n",
    "accuracy = (sum(map(int, correct)) % len(correct))\n",
    "print ('accuracy = {0}%'.format(accuracy))"
   ]
  }
 ],
 "metadata": {
  "kernelspec": {
   "display_name": "Python 2",
   "language": "python",
   "name": "python2"
  },
  "language_info": {
   "codemirror_mode": {
    "name": "ipython",
    "version": 2
   },
   "file_extension": ".py",
   "mimetype": "text/x-python",
   "name": "python",
   "nbconvert_exporter": "python",
   "pygments_lexer": "ipython2",
   "version": "2.7.13"
  }
 },
 "nbformat": 4,
 "nbformat_minor": 2
}
