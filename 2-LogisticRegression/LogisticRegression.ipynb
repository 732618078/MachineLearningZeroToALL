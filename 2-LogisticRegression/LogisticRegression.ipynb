{
 "cells": [
  {
   "cell_type": "markdown",
   "metadata": {},
   "source": [
    "这里显示逻辑回归相关的算法"
   ]
  },
  {
   "cell_type": "code",
   "execution_count": 1,
   "metadata": {
    "collapsed": true
   },
   "outputs": [],
   "source": [
    "# 导入包\n",
    "import numpy as np\n",
    "import matplotlib.pyplot as plt\n",
    "from scipy import optimize\n",
    "from matplotlib.font_manager import FontProperties\n",
    "font = FontProperties(fname=r\"c:\\windows\\fonts\\simsun.ttc\", size=14)    # 解决windows环境下画图汉字乱码问题"
   ]
  },
  {
   "cell_type": "code",
   "execution_count": 2,
   "metadata": {},
   "outputs": [
    {
     "name": "stdout",
     "output_type": "stream",
     "text": [
      "the info.\n",
      " X: [ 0.051267  0.69956 ],Y: 1\n",
      " X: [-0.092742  0.68494 ],Y: 1\n",
      " X: [-0.21371  0.69225],Y: 1\n",
      " X: [-0.375    0.50219],Y: 1\n",
      " X: [-0.51325  0.46564],Y: 1\n",
      " X: [-0.52477  0.2098 ],Y: 1\n",
      " X: [-0.39804   0.034357],Y: 1\n",
      " X: [-0.30588 -0.19225],Y: 1\n",
      " X: [ 0.016705 -0.40424 ],Y: 1\n",
      " X: [ 0.13191 -0.51389],Y: 1\n"
     ]
    }
   ],
   "source": [
    "data = np.loadtxt(\"../data/2-logistic_regression/data2.txt\", delimiter=\",\", dtype=np.float64) \n",
    "X = data[:,0:-1]\n",
    "y = data[:,-1]\n",
    "\n",
    "print (\"the info.\")\n",
    "for i in range(10):\n",
    "    print (\" X: %s,Y: %d\"%(X[i],y[i]))"
   ]
  },
  {
   "cell_type": "code",
   "execution_count": 3,
   "metadata": {},
   "outputs": [
    {
     "data": {
      "image/png": "[encoded data removed]",
      "text/plain": [
       "<matplotlib.figure.Figure at 0x168f1be0>"
      ]
     },
     "metadata": {},
     "output_type": "display_data"
    }
   ],
   "source": [
    "# 显示二维图形\n",
    "def plot_data(X,y):\n",
    "    pos = np.where(y==1)    \n",
    "    neg = np.where(y==0)    \n",
    "    #作图\n",
    "    plt.figure(figsize=(8,8))\n",
    "    plt.plot(X[pos,0],X[pos,1],'ro')        # red o\n",
    "    plt.plot(X[neg,0],X[neg,1],'bo')        # blue o\n",
    "    plt.title(u\"两个类别散点图\",fontproperties=font)\n",
    "    plt.show()\n",
    "plot_data(X,y) "
   ]
  },
  {
   "cell_type": "code",
   "execution_count": 4,
   "metadata": {
    "collapsed": true
   },
   "outputs": [],
   "source": [
    "def relu(Z):\n",
    "    A = np.maximum(0,Z)\n",
    "    assert(A.shape == Z.shape)\n",
    "    return A"
   ]
  },
  {
   "cell_type": "code",
   "execution_count": 5,
   "metadata": {
    "collapsed": true
   },
   "outputs": [],
   "source": [
    "# 映射为多项式 \n",
    "def mapFeature(X1,X2):\n",
    "    degree = 2;                     # 映射的最高次方\n",
    "    out = np.ones((X1.shape[0],1))  # 映射后的结果数组（取代X）\n",
    "    '''\n",
    "    这里以degree=2为例，映射为1,x1,x2,x1^2,x1,x2,x2^2\n",
    "    '''\n",
    "    for i in np.arange(1,degree+1): \n",
    "        for j in range(i+1):\n",
    "            temp = X1**(i-j)*(X2**j)    #矩阵直接乘相当于matlab中的点乘.*\n",
    "            out = np.hstack((out, temp.reshape(-1,1)))\n",
    "    return out\n",
    "\n",
    "# S型函数    \n",
    "def sigmoid(Z):\n",
    "    A = 1.0/(1.0+np.exp(-Z))\n",
    "    return A\n",
    "\n",
    "\n",
    "#画决策边界\n",
    "def plotDecisionBoundary(theta,X,y):\n",
    "    pos = np.where(y==1)    #找到y==1的坐标位置\n",
    "    neg = np.where(y==0)    #找到y==0的坐标位置\n",
    "    #作图\n",
    "    plt.figure(figsize=(8,8))\n",
    "    plt.plot(X[pos,0],X[pos,1],'ro')        # red o\n",
    "    plt.plot(X[neg,0],X[neg,1],'bo')        # blue o\n",
    "    plt.title(u\"决策边界\",fontproperties=font)\n",
    "    \n",
    "    #u = np.linspace(30,100,100)\n",
    "    #v = np.linspace(30,100,100)\n",
    "    \n",
    "    u = np.linspace(-1,1.5,50)  #根据具体的数据，这里需要调整\n",
    "    v = np.linspace(-1,1.5,50)\n",
    "    \n",
    "    z = np.zeros((len(u),len(v)))\n",
    "    for i in range(len(u)):\n",
    "        for j in range(len(v)):\n",
    "            z[i,j] = np.dot(mapFeature(u[i].reshape(1,-1),v[j].reshape(1,-1)),theta)    # 计算对应的值，需要map\n",
    "    \n",
    "    z = np.transpose(z)\n",
    "    plt.contour(u,v,z,[0,0.01],linewidth=2.0)   # 画等高线，范围在[0,0.01]，即近似为决策边界\n",
    "    #plt.legend()\n",
    "    plt.show()\n"
   ]
  },
  {
   "cell_type": "code",
   "execution_count": 6,
   "metadata": {
    "collapsed": true
   },
   "outputs": [],
   "source": [
    "# 代价函数\n",
    "def costFunction(initial_theta,X,y,inital_lambda):\n",
    "    m = len(y)\n",
    "    J = 0\n",
    "    \n",
    "    h = sigmoid(np.dot(X,initial_theta))    # 计算h(z)\n",
    "    theta1 = initial_theta.copy()           # 因为正则化j=1从1开始，不包含0，所以复制一份，前theta(0)值为0 \n",
    "    theta1[0] = 0   \n",
    "    \n",
    "    temp = np.dot(np.transpose(theta1),theta1)\n",
    "    J = (-np.dot(np.transpose(y),np.log(h))-np.dot(np.transpose(1-y),np.log(1-h))+temp*inital_lambda/2)/m   # 正则化的代价方程\n",
    "    return J"
   ]
  },
  {
   "cell_type": "code",
   "execution_count": 7,
   "metadata": {
    "collapsed": true
   },
   "outputs": [],
   "source": [
    "# 计算梯度\n",
    "def gradient(initial_theta,X,y,inital_lambda):\n",
    "    m = len(y)\n",
    "    grad = np.zeros((initial_theta.shape[0]))\n",
    "    \n",
    "    h = sigmoid(np.dot(X,initial_theta))# 计算h(z)\n",
    "    theta1 = initial_theta.copy()\n",
    "    theta1[0] = 0\n",
    "\n",
    "    grad = np.dot(np.transpose(X),h-y)/m+inital_lambda/m*theta1 #正则化的梯度\n",
    "    return grad"
   ]
  },
  {
   "cell_type": "code",
   "execution_count": 8,
   "metadata": {
    "collapsed": true
   },
   "outputs": [],
   "source": [
    "# 预测\n",
    "def predict(X,theta):\n",
    "    m = X.shape[0]\n",
    "    p = np.zeros((m,1))\n",
    "    p = sigmoid(np.dot(X,theta))    # 预测的结果，是个概率值\n",
    "    \n",
    "    for i in range(m):\n",
    "        if p[i] > 0.5:  #概率大于0.5预测为1，否则预测为0\n",
    "            p[i] = 1\n",
    "        else:\n",
    "            p[i] = 0\n",
    "    return p"
   ]
  },
  {
   "cell_type": "code",
   "execution_count": 9,
   "metadata": {},
   "outputs": [
    {
     "name": "stdout",
     "output_type": "stream",
     "text": [
      "[[ 0.69314718]]\n",
      "Optimization terminated successfully.\n",
      "         Current function value: 0.432431\n",
      "         Iterations: 37\n",
      "         Function evaluations: 39\n",
      "         Gradient evaluations: 39\n",
      "在训练集上的准确度为83.050847%\n"
     ]
    },
    {
     "name": "stderr",
     "output_type": "stream",
     "text": [
      "C:\\Users\\Techik\\Anaconda2\\envs\\gluon\\lib\\site-packages\\matplotlib\\contour.py:967: UserWarning: The following kwargs were not used by contour: 'linewidth'\n",
      "  s)\n"
     ]
    },
    {
     "data": {
      "image/png": "[encoded data removed]",
      "text/plain": [
       "<matplotlib.figure.Figure at 0x46b2da0>"
      ]
     },
     "metadata": {},
     "output_type": "display_data"
    }
   ],
   "source": [
    "X = mapFeature(X[:,0],X[:,1])           #映射为多项式\n",
    "initial_theta = np.zeros((X.shape[1],1))#初始化theta\n",
    "initial_lambda = 0.1                    #初始化正则化系数，一般取0.01,0.1,1.....\n",
    "\n",
    "J = costFunction(initial_theta,X,y,initial_lambda)  #计算一下给定初始化的theta和lambda求出的代价J\n",
    "\n",
    "print J  #输出一下计算的值，应该为0.693147\n",
    "#result = optimize.fmin(costFunction, initial_theta, args=(X,y,initial_lambda))    #直接使用最小化的方法，效果不好\n",
    "'''调用scipy中的优化算法fmin_bfgs（拟牛顿法Broyden-Fletcher-Goldfarb-Shanno）\n",
    "- costFunction是自己实现的一个求代价的函数，\n",
    "- initial_theta表示初始化的值,\n",
    "- fprime指定costFunction的梯度\n",
    "- args是其余测参数，以元组的形式传入，最后会将最小化costFunction的theta返回 \n",
    "'''\n",
    "result = optimize.fmin_bfgs(costFunction, initial_theta, fprime=gradient, args=(X,y,initial_lambda))    \n",
    "p = predict(X, result)   #预测\n",
    "print u'在训练集上的准确度为%f%%'%np.mean(np.float64(p==y)*100)   # 与真实值比较，p==y返回True，转化为float   \n",
    "\n",
    "X = data[:,0:-1]\n",
    "y = data[:,-1]    \n",
    "plotDecisionBoundary(result,X,y)    #画决策边界  "
   ]
  }
 ],
 "metadata": {
  "kernelspec": {
   "display_name": "Python 2",
   "language": "python",
   "name": "python2"
  },
  "language_info": {
   "codemirror_mode": {
    "name": "ipython",
    "version": 2
   },
   "file_extension": ".py",
   "mimetype": "text/x-python",
   "name": "python",
   "nbconvert_exporter": "python",
   "pygments_lexer": "ipython2",
   "version": "2.7.13"
  }
 },
 "nbformat": 4,
 "nbformat_minor": 2
}
