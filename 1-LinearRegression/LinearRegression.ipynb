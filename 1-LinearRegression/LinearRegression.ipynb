{
 "cells": [
  {
   "cell_type": "code",
   "execution_count": 1,
   "metadata": {
    "collapsed": true
   },
   "outputs": [],
   "source": [
    "#-*- coding: utf-8 -*-\n",
    "import numpy as np\n",
    "from matplotlib import pyplot as plt\n",
    "from matplotlib.font_manager import FontProperties\n",
    "font = FontProperties(fname=r\"c:\\windows\\fonts\\simsun.ttc\", size=14)    # 解决windows环境下画图汉字乱码问题"
   ]
  },
  {
   "cell_type": "code",
   "execution_count": 2,
   "metadata": {
    "collapsed": true
   },
   "outputs": [],
   "source": [
    "# 归一化feature\n",
    "def featureNormaliza(X):\n",
    "    X_norm = np.array(X)            #将X转化为numpy数组对象，才可以进行矩阵的运算\n",
    "    #定义所需变量\n",
    "    mu = np.zeros((1,X.shape[1]))   \n",
    "    sigma = np.zeros((1,X.shape[1]))\n",
    "    \n",
    "    mu = np.mean(X_norm,0)          # 求每一列的平均值（0指定为列，1代表行）\n",
    "    sigma = np.std(X_norm,0)        # 求每一列的标准差\n",
    "    for i in range(X.shape[1]):     # 遍历列\n",
    "        X_norm[:,i] = (X_norm[:,i]-mu[i])/sigma[i]  # 归一化    \n",
    "    return X_norm,mu,sigma\n",
    "\n",
    "# 画二维图\n",
    "def plot_X1_X2(X):\n",
    "    plt.scatter(X[:,0],X[:,1])\n",
    "    plt.show()"
   ]
  },
  {
   "cell_type": "code",
   "execution_count": 3,
   "metadata": {
    "collapsed": true
   },
   "outputs": [],
   "source": [
    "# 梯度下降算法\n",
    "def gradientDescent(X,y,theta,alpha,num_iters):\n",
    "    m = len(y)      \n",
    "    n = len(theta)\n",
    "    \n",
    "    temp = np.matrix(np.zeros((n,num_iters)))   # 暂存每次迭代计算的theta，转化为矩阵形式\n",
    "    \n",
    "    J_history = np.zeros((num_iters,1)) #记录每次迭代计算的代价值\n",
    "    \n",
    "    for i in range(num_iters):  # 遍历迭代次数    \n",
    "        h = np.dot(X,theta)     # 计算内积，matrix可以直接乘\n",
    "        temp[:,i] = theta - ((alpha/m)*(np.dot(np.transpose(X),h-y)))   #梯度的计算\n",
    "        theta = temp[:,i]\n",
    "        J_history[i] = computerCost(X,y,theta)      #调用计算代价函数    \n",
    "    return theta,J_history  \n",
    "\n",
    "# 计算代价函数\n",
    "def computerCost(X,y,theta):\n",
    "    m = len(y)\n",
    "    J = 0  \n",
    "    J = (np.transpose(X*theta-y))*(X*theta-y)/(2*m) #计算代价J\n",
    "    return J\n",
    "\n",
    "# 画每次迭代代价的变化图\n",
    "def plotJ(J_history,num_iters):\n",
    "    x = np.arange(1,num_iters+1)\n",
    "    plt.plot(x,J_history)\n",
    "    plt.xlabel(u\"迭代次数\",fontproperties=font) # 注意指定字体，要不然出现乱码问题\n",
    "    plt.ylabel(u\"代价值\",fontproperties=font)\n",
    "    plt.title(u\"代价随迭代次数的变化\",fontproperties=font)\n",
    "    plt.show()"
   ]
  },
  {
   "cell_type": "code",
   "execution_count": 4,
   "metadata": {
    "collapsed": true
   },
   "outputs": [],
   "source": [
    "def linearRegression(alpha=0.01,num_iters=400):\n",
    "    print u\"加载数据...\\n\"\n",
    "    \n",
    "    data = np.loadtxt(\"../data/1-linear_regression/data.txt\",delimiter=\",\",dtype=np.float64) #读取数据\n",
    "    X = data[:,0:-1]      # X对应0到倒数第2列                  \n",
    "    y = data[:,-1]        # y对应最后一列  \n",
    "    m = len(y)            # 总的数据条数\n",
    "    col = data.shape[1]      # data的列数\n",
    "    \n",
    "    X,mu,sigma = featureNormaliza(X)    # 归一化\n",
    "    plot_X1_X2(X)         # 画图看一下归一化效果\n",
    "    \n",
    "    X = np.hstack((np.ones((m,1)),X))    # 在X前加一列1\n",
    "    \n",
    "    print u\"\\n执行梯度下降算法....\\n\"\n",
    "    \n",
    "    theta = np.zeros((col,1))\n",
    "    y = y.reshape(-1,1)   #将行向量转化为列\n",
    "    theta,J_history = gradientDescent(X, y, theta, alpha, num_iters)\n",
    "    \n",
    "    plotJ(J_history, num_iters)\n",
    "    \n",
    "    return mu,sigma,theta   #返回均值mu,标准差sigma,和学习的结果theta"
   ]
  },
  {
   "cell_type": "markdown",
   "metadata": {},
   "source": [
    "### 迭代效果"
   ]
  },
  {
   "cell_type": "code",
   "execution_count": 5,
   "metadata": {},
   "outputs": [
    {
     "name": "stdout",
     "output_type": "stream",
     "text": [
      "加载数据...\n",
      "\n"
     ]
    },
    {
     "data": {
      "image/png": "[encoded data removed]",
      "text/plain": [
       "<matplotlib.figure.Figure at 0x163bacc0>"
      ]
     },
     "metadata": {},
     "output_type": "display_data"
    },
    {
     "name": "stdout",
     "output_type": "stream",
     "text": [
      "\n",
      "执行梯度下降算法....\n",
      "\n"
     ]
    },
    {
     "data": {
      "image/png": "[encoded data removed]",
      "text/plain": [
       "<matplotlib.figure.Figure at 0x165c6e80>"
      ]
     },
     "metadata": {},
     "output_type": "display_data"
    },
    {
     "name": "stdout",
     "output_type": "stream",
     "text": [
      "\n",
      "计算的theta值为：\n",
      "[[ 334302.06399328]\n",
      " [  99411.44947359]\n",
      " [   3267.01285407]]\n"
     ]
    }
   ],
   "source": [
    "mu,sigma,theta = linearRegression(0.01,400)\n",
    "print u\"\\n计算的theta值为：\\n\",theta"
   ]
  },
  {
   "cell_type": "markdown",
   "metadata": {},
   "source": [
    "### 预测"
   ]
  },
  {
   "cell_type": "code",
   "execution_count": 6,
   "metadata": {},
   "outputs": [
    {
     "name": "stdout",
     "output_type": "stream",
     "text": [
      "[[ 289221.54737122]]\n"
     ]
    }
   ],
   "source": [
    "result = 0\n",
    "# 注意归一化\n",
    "predict = np.array([1650,3])\n",
    "norm_predict = (predict-mu)/sigma\n",
    "final_predict = np.hstack((np.ones((1)),norm_predict))\n",
    "\n",
    "result = np.dot(final_predict,theta)    # 预测结果\n",
    "print result"
   ]
  }
 ],
 "metadata": {
  "kernelspec": {
   "display_name": "Python 2",
   "language": "python",
   "name": "python2"
  },
  "language_info": {
   "codemirror_mode": {
    "name": "ipython",
    "version": 2
   },
   "file_extension": ".py",
   "mimetype": "text/x-python",
   "name": "python",
   "nbconvert_exporter": "python",
   "pygments_lexer": "ipython2",
   "version": "2.7.13"
  }
 },
 "nbformat": 4,
 "nbformat_minor": 2
}
