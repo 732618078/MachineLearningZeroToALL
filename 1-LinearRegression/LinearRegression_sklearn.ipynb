{
 "cells": [
  {
   "cell_type": "markdown",
   "metadata": {},
   "source": [
    "## 使用sklearn 模块 "
   ]
  },
  {
   "cell_type": "code",
   "execution_count": 1,
   "metadata": {
    "collapsed": true
   },
   "outputs": [],
   "source": [
    "#-*- coding: utf-8 -*-\n",
    "import numpy as np\n",
    "from sklearn import linear_model\n",
    "from matplotlib import pyplot as plt\n",
    "from sklearn.preprocessing import StandardScaler    #引入归一化的包\n",
    "% matplotlib inline"
   ]
  },
  {
   "cell_type": "code",
   "execution_count": 2,
   "metadata": {},
   "outputs": [
    {
     "name": "stdout",
     "output_type": "stream",
     "text": [
      "加载数据...\n",
      "\n"
     ]
    },
    {
     "data": {
      "text/plain": [
       "LinearRegression(copy_X=True, fit_intercept=True, n_jobs=1, normalize=False)"
      ]
     },
     "execution_count": 2,
     "metadata": {},
     "output_type": "execute_result"
    },
    {
     "data": {
      "image/png": "[encoded data removed]",
      "text/plain": [
       "<matplotlib.figure.Figure at 0x2d92208>"
      ]
     },
     "metadata": {},
     "output_type": "display_data"
    }
   ],
   "source": [
    "print u\"加载数据...\\n\"\n",
    "data = np.loadtxt(\"../data/1-linear_regression/data.txt\",delimiter=\",\",dtype=np.float64) #读取数据\n",
    "X = np.array(data[:,0:-1],dtype=np.float64)      # X对应0到倒数第2列                  \n",
    "y = np.array(data[:,-1],dtype=np.float64)        # y对应最后一列  \n",
    "\n",
    "plt.scatter(X[:,0],X[:,1])\n",
    "\n",
    "# 归一化操作\n",
    "scaler = StandardScaler()   \n",
    "scaler.fit(X)\n",
    "\n",
    "\n",
    "x_train = scaler.transform(X)\n",
    "x_test = scaler.transform(np.array([1650.0,3.0]).reshape(1,-1))\n",
    "\n",
    "# 线性模型拟合\n",
    "model = linear_model.LinearRegression()\n",
    "model.fit(x_train, y)"
   ]
  },
  {
   "cell_type": "markdown",
   "metadata": {},
   "source": [
    "### 预测结果"
   ]
  },
  {
   "cell_type": "code",
   "execution_count": 3,
   "metadata": {},
   "outputs": [
    {
     "name": "stdout",
     "output_type": "stream",
     "text": [
      "[ 109447.79646964   -6578.35485416]\n",
      "340412.659574\n",
      "[ 293081.4643349]\n"
     ]
    }
   ],
   "source": [
    "#预测结果\n",
    "result = model.predict(x_test)\n",
    "print model.coef_       # Coefficient of the features 决策函数中的特征系数\n",
    "print model.intercept_  # 又名bias偏置,若设置为False，则为0\n",
    "print result            # 预测结果"
   ]
  }
 ],
 "metadata": {
  "kernelspec": {
   "display_name": "Python 2",
   "language": "python",
   "name": "python2"
  },
  "language_info": {
   "codemirror_mode": {
    "name": "ipython",
    "version": 2
   },
   "file_extension": ".py",
   "mimetype": "text/x-python",
   "name": "python",
   "nbconvert_exporter": "python",
   "pygments_lexer": "ipython2",
   "version": "2.7.13"
  }
 },
 "nbformat": 4,
 "nbformat_minor": 2
}
