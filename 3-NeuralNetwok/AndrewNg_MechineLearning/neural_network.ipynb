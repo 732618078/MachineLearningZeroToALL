{
 "cells": [
  {
   "cell_type": "markdown",
   "metadata": {},
   "source": [
    "### 练习三： 神经网络\n",
    "原文的练习要求在[这里](ex3.pdf),要求用m文件进行编写。该练习使用python进行编程，为对更好的进行练习，没有完全和原代码进行想适应。"
   ]
  },
  {
   "cell_type": "markdown",
   "metadata": {},
   "source": [
    "### 3.1 多级分类\n",
    "简要描述：\n",
    "> 在本练习中，将使用逻辑回归和神经网络来识别手写数字（从0到9）。 自动手写数字识别在今天被广泛使用，从识别邮件信封上的邮政编码（邮政编码）到识别银行支票上的金额。 本练习将展示如何将所学的方法用于此分类任务。   \n",
    "\n",
    "####  3.1.1 读取数据集以及可视化数据 \n",
    "本模板将会展示如何读取.mat文件的数据。此次数据集[ex3data1.mat](ex3data1.mat)包含5000个手写数字的训练样本。你可以调用函数读取数据（矩阵形式），数据将加载在内存中。该数据集已经命名好对应的不同的数字。让我们进行读取并对其中一些数据进行可视化吧。"
   ]
  },
  {
   "cell_type": "code",
   "execution_count": 1,
   "metadata": {
    "collapsed": true
   },
   "outputs": [],
   "source": [
    "import matplotlib.pyplot as plt\n",
    "import numpy as np\n",
    "import scipy.io as sio\n",
    "import matplotlib\n",
    "import scipy.optimize as opt\n",
    "% matplotlib inline"
   ]
  },
  {
   "cell_type": "code",
   "execution_count": 2,
   "metadata": {},
   "outputs": [
    {
     "name": "stdout",
     "output_type": "stream",
     "text": [
      "((5000L, 400L), (5000L, 1L))\n",
      "(400L,)\n"
     ]
    }
   ],
   "source": [
    "data = sio.loadmat(\"ex3data1.mat\")\n",
    "train_X = data[\"X\"]\n",
    "train_y = data[\"y\"]\n",
    "print (train_X.shape,train_y.shape)\n",
    "print train_X[1].shape"
   ]
  },
  {
   "cell_type": "code",
   "execution_count": 9,
   "metadata": {},
   "outputs": [
    {
     "data": {
      "text/plain": [
       "(1.0474834563069852, -0.057515114379085359)"
      ]
     },
     "execution_count": 9,
     "metadata": {},
     "output_type": "execute_result"
    }
   ],
   "source": [
    "train_X[0].max(),train_X[0].min()"
   ]
  },
  {
   "cell_type": "code",
   "execution_count": 3,
   "metadata": {
    "collapsed": true
   },
   "outputs": [],
   "source": [
    "# 可视化手写数字对应的图片\n",
    "def plot_digit(imgs, nrows, ncols, figsize=None):\n",
    "    \"\"\"plot a list of images\"\"\"\n",
    "    sample_idx = np.random.choice(np.arange(imgs.shape[0]), 100)  # 100*400\n",
    "    sample_images = imgs[sample_idx, :]\n",
    "    \n",
    "    if not figsize:\n",
    "        figsize = (ncols, nrows)\n",
    "    _, figs = plt.subplots(nrows, ncols, figsize=figsize)\n",
    "    for i in range(nrows):\n",
    "        for j in range(ncols):\n",
    "            data = sample_images[ncols * i + j].reshape((20,20)).T\n",
    "            figs[i, j].imshow(data)        \n",
    "    plt.show()    "
   ]
  },
  {
   "cell_type": "code",
   "execution_count": 4,
   "metadata": {},
   "outputs": [
    {
     "data": {
      "image/png": "[encoded data removed]",
      "text/plain": [
       "<matplotlib.figure.Figure at 0x2df1320>"
      ]
     },
     "metadata": {},
     "output_type": "display_data"
    },
    {
     "data": {
      "text/plain": [
       "(400L,)"
      ]
     },
     "execution_count": 4,
     "metadata": {},
     "output_type": "execute_result"
    }
   ],
   "source": [
    "plot_digit(train_X,4,4)\n",
    "train_X[0].shape"
   ]
  },
  {
   "cell_type": "markdown",
   "metadata": {},
   "source": [
    "#### 3.1.2 矢量化Logistic回归\n",
    "首先，我们先矢量化损失函数：\n",
    "$J\\left( \\theta  \\right)=\\frac{1}{m}\\sum\\limits_{i=1}^{m}{[-{{y}^{(i)}}\\log \\left( {{h}_{\\theta }}\\left( {{x}^{(i)}} \\right) \\right)-\\left( 1-{{y}^{(i)}} \\right)\\log \\left( 1-{{h}_{\\theta }}\\left( {{x}^{(i)}} \\right) \\right)]}$  \n",
    "其中，${{h}_{\\theta }}\\left( {{x}^{(i)}} \\right)$ = $g\\left(  {{\\theta}^{T}}{{x}^{(i)}} \\right)$ 并且$g\\left( z \\right)=\\frac{1}{1+{{e}^{-z}}}$   \n",
    "这里我们来定义函数实现(这里我们直接正则化)"
   ]
  },
  {
   "cell_type": "code",
   "execution_count": 5,
   "metadata": {
    "collapsed": true
   },
   "outputs": [],
   "source": [
    "def sigmoid(Z):\n",
    "    A = 1.0/(1+np.exp(-Z))\n",
    "    return A\n",
    "\n",
    "def cost(theta, X, y, learningRate):\n",
    "    theta = np.matrix(theta)\n",
    "    X = np.matrix(X)\n",
    "    y = np.matrix(y)\n",
    "    first = np.multiply(-y, np.log(sigmoid(X * theta.T)))\n",
    "    second = np.multiply((1 - y), np.log(1 - sigmoid(X * theta.T)))\n",
    "    reg = (learningRate / (2 * len(X))) * np.sum(np.power(theta[:,1:theta.shape[1]], 2))\n",
    "    return np.sum(first - second) / len(X) + reg"
   ]
  },
  {
   "cell_type": "markdown",
   "metadata": {},
   "source": [
    "#### 3.1.3 梯度下降"
   ]
  },
  {
   "cell_type": "code",
   "execution_count": 6,
   "metadata": {
    "collapsed": true
   },
   "outputs": [],
   "source": [
    "def gradient(theta, X, y, learningRate):\n",
    "    theta = np.matrix(theta)\n",
    "    X = np.matrix(X)\n",
    "    y = np.matrix(y)\n",
    "    \n",
    "    parameters = int(theta.ravel().shape[1])\n",
    "    error = sigmoid(X * theta.T) - y\n",
    "    \n",
    "    grad = ((X.T * error) / len(X)).T + ((learningRate / len(X)) * theta)\n",
    "    \n",
    "    # intercept gradient is not regularized\n",
    "    grad[0, 0] = np.sum(np.multiply(error, X[:,0])) / len(X)\n",
    "    \n",
    "    return np.array(grad).ravel()"
   ]
  },
  {
   "cell_type": "markdown",
   "metadata": {},
   "source": [
    "#### 3.1.4 构建分类器\n",
    "现在我们已经定义好了损失函数和梯度下降了。现在要进行构建分类器...  \n",
    "对于此次任务是要进行分类10类。在之前的练习过程中，一般使用的是逻辑回归，是针对两类回归问题，在这里我们需要采用多分类的策略。  \n",
    " 在本练习中，我们的任务是实现一对一全分类方法，其中具有k个不同类的标签就有k个分类器，每个分类器在“类别 i”和“不是 i”之间决定。 我们将把分类器训练包含在一个函数中，该函数计算10个分类器中的每个分类器的最终权重，并将权重返回为k X（n + 1）数组，其中n是参数数量。"
   ]
  },
  {
   "cell_type": "code",
   "execution_count": 7,
   "metadata": {
    "collapsed": true
   },
   "outputs": [],
   "source": [
    "from scipy.optimize import minimize\n",
    "\n",
    "def one_vs_all(X, y, num_labels, learning_rate):\n",
    "    rows = X.shape[0]\n",
    "    params = X.shape[1]\n",
    "    \n",
    "    # k X (n + 1) array for the parameters of each of the k classifiers\n",
    "    all_theta = np.zeros((num_labels, params + 1))\n",
    "    \n",
    "    # insert a column of ones at the beginning for the intercept term\n",
    "    X = np.insert(X, 0, values=np.ones(rows), axis=1)\n",
    "    \n",
    "    # labels are 1-indexed instead of 0-indexed\n",
    "    for i in range(1, num_labels + 1):\n",
    "        theta = np.zeros(params + 1)\n",
    "        y_i = np.array([1 if label == i else 0 for label in y])\n",
    "        y_i = np.reshape(y_i, (rows, 1))\n",
    "        \n",
    "        # minimize the objective function\n",
    "        fmin = minimize(fun=cost, x0=theta, args=(X, y_i, learning_rate), method='TNC', jac=gradient)\n",
    "        all_theta[i-1,:] = fmin.x\n",
    "    \n",
    "    return all_theta"
   ]
  },
  {
   "cell_type": "markdown",
   "metadata": {},
   "source": [
    "这里需要注意的几点：\n",
    "- 我们为theta添加了一个额外的参数（与训练数据一列），以计算截距项（常数项）。 \n",
    "- 其次，我们将y从类标签转换为每个分类器的二进制值（要么是类i，要么不是类i）。 \n",
    "- 我们使用SciPy的较新优化API来最小化每个分类器的代价函数。\n",
    "如果指定的话，API将采用目标函数，初始参数集，优化方法和jacobian（渐变）函数。 然后将优化程序找到的参数分配给参数数组。\n",
    "\n",
    "实现向量化代码的一个更具挑战性的部分是正确地写入所有的矩阵，保证维度正确。"
   ]
  },
  {
   "cell_type": "code",
   "execution_count": 8,
   "metadata": {
    "scrolled": true
   },
   "outputs": [
    {
     "data": {
      "text/plain": [
       "((5000L, 401L), (5000L, 1L), (401L,), (10L, 401L))"
      ]
     },
     "execution_count": 8,
     "metadata": {},
     "output_type": "execute_result"
    }
   ],
   "source": [
    "rows = data['X'].shape[0]\n",
    "params = data['X'].shape[1]\n",
    "\n",
    "all_theta = np.zeros((10, params + 1))\n",
    "\n",
    "X = np.insert(data['X'], 0, values=np.ones(rows), axis=1)\n",
    "\n",
    "theta = np.random.rand(params + 1)\n",
    "\n",
    "y_0 = np.array([1 if label == 0 else 0 for label in data['y']])\n",
    "y_0 = np.reshape(y_0, (rows, 1))\n",
    "\n",
    "X.shape, y_0.shape, theta.shape, all_theta.shape"
   ]
  },
  {
   "cell_type": "code",
   "execution_count": 9,
   "metadata": {},
   "outputs": [
    {
     "name": "stderr",
     "output_type": "stream",
     "text": [
      "C:\\Users\\Techik\\Anaconda2\\envs\\gluon\\lib\\site-packages\\ipykernel_launcher.py:17: RuntimeWarning: divide by zero encountered in log\n",
      "C:\\Users\\Techik\\Anaconda2\\envs\\gluon\\lib\\site-packages\\ipykernel_launcher.py:17: RuntimeWarning: invalid value encountered in multiply\n",
      "C:\\Users\\Techik\\Anaconda2\\envs\\gluon\\lib\\site-packages\\ipykernel_launcher.py:18: RuntimeWarning: invalid value encountered in power\n",
      "C:\\Users\\Techik\\Anaconda2\\envs\\gluon\\lib\\site-packages\\ipykernel_launcher.py:2: RuntimeWarning: overflow encountered in exp\n",
      "  \n",
      "C:\\Users\\Techik\\Anaconda2\\envs\\gluon\\lib\\site-packages\\ipykernel_launcher.py:16: RuntimeWarning: divide by zero encountered in log\n",
      "  app.launch_new_instance()\n",
      "C:\\Users\\Techik\\Anaconda2\\envs\\gluon\\lib\\site-packages\\ipykernel_launcher.py:16: RuntimeWarning: invalid value encountered in multiply\n",
      "  app.launch_new_instance()\n"
     ]
    },
    {
     "data": {
      "text/plain": [
       "array([[ -4.84724713e+00,   0.00000000e+00,   0.00000000e+00, ...,\n",
       "          8.90909213e-03,   2.88345476e-07,   0.00000000e+00],\n",
       "       [ -5.55040789e+00,   0.00000000e+00,   0.00000000e+00, ...,\n",
       "          7.31706822e-02,  -7.24888549e-03,   0.00000000e+00],\n",
       "       [ -8.49748016e+00,   0.00000000e+00,   0.00000000e+00, ...,\n",
       "         -2.55374907e-04,  -2.00760699e-06,   0.00000000e+00],\n",
       "       ..., \n",
       "       [ -1.32258210e+01,   0.00000000e+00,   0.00000000e+00, ...,\n",
       "         -4.98511155e+00,   5.75576188e-01,   0.00000000e+00],\n",
       "       [ -8.67119277e+00,   0.00000000e+00,   0.00000000e+00, ...,\n",
       "         -1.78033846e-01,   8.95830697e-03,   0.00000000e+00],\n",
       "       [ -1.19481275e+01,   0.00000000e+00,   0.00000000e+00, ...,\n",
       "          1.02178865e-03,   5.34798551e-05,   0.00000000e+00]])"
      ]
     },
     "execution_count": 9,
     "metadata": {},
     "output_type": "execute_result"
    }
   ],
   "source": [
    "all_theta = one_vs_all(data['X'], data['y'], 10, 1)\n",
    "all_theta"
   ]
  },
  {
   "cell_type": "code",
   "execution_count": 10,
   "metadata": {
    "collapsed": true
   },
   "outputs": [],
   "source": [
    "def predict_all(X, all_theta):\n",
    "    rows = X.shape[0]\n",
    "    params = X.shape[1]\n",
    "    num_labels = all_theta.shape[0]\n",
    "    \n",
    "    # same as before, insert ones to match the shape\n",
    "    X = np.insert(X, 0, values=np.ones(rows), axis=1)\n",
    "    \n",
    "    # convert to matrices\n",
    "    X = np.matrix(X)\n",
    "    all_theta = np.matrix(all_theta)\n",
    "    \n",
    "    # compute the class probability for each class on each training instance\n",
    "    h = sigmoid(X * all_theta.T)\n",
    "    \n",
    "    # create array of the index with the maximum probability\n",
    "    h_argmax = np.argmax(h, axis=1)\n",
    "    \n",
    "    # because our array was zero-indexed we need to add one for the true label prediction\n",
    "    h_argmax = h_argmax + 1\n",
    "    \n",
    "    return h_argmax"
   ]
  },
  {
   "cell_type": "code",
   "execution_count": 11,
   "metadata": {},
   "outputs": [
    {
     "name": "stdout",
     "output_type": "stream",
     "text": [
      "accuracy = 97.64%\n"
     ]
    }
   ],
   "source": [
    "y_pred = predict_all(data['X'], all_theta)\n",
    "correct = [1 if a == b else 0 for (a, b) in zip(y_pred, data['y'])]\n",
    "accuracy = (sum(map(int, correct)) / float(len(correct)))\n",
    "print ('accuracy = {0}%'.format(accuracy * 100))"
   ]
  },
  {
   "cell_type": "markdown",
   "metadata": {},
   "source": [
    "神经网络的模型：\n",
    "![pic](../../images/nn_model.png)"
   ]
  }
 ],
 "metadata": {
  "kernelspec": {
   "display_name": "Python 2",
   "language": "python",
   "name": "python2"
  },
  "language_info": {
   "codemirror_mode": {
    "name": "ipython",
    "version": 2
   },
   "file_extension": ".py",
   "mimetype": "text/x-python",
   "name": "python",
   "nbconvert_exporter": "python",
   "pygments_lexer": "ipython2",
   "version": "2.7.13"
  }
 },
 "nbformat": 4,
 "nbformat_minor": 2
}
