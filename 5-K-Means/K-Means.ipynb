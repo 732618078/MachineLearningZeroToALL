{
 "cells": [
  {
   "cell_type": "markdown",
   "metadata": {},
   "source": [
    "## K-means聚类--python实现代码"
   ]
  },
  {
   "cell_type": "code",
   "execution_count": 1,
   "metadata": {
    "collapsed": true
   },
   "outputs": [],
   "source": [
    "import numpy as np\n",
    "import cv2\n",
    "from matplotlib import pyplot as plt\n",
    "from matplotlib import colors\n",
    "from scipy import io as spio\n",
    "from scipy import misc      # 图片操作\n",
    "from matplotlib.font_manager import FontProperties\n",
    "font = FontProperties(fname=r\"c:\\windows\\fonts\\simsun.ttc\", size=14)    # 解决windows环境下画图汉字乱码问题\n",
    "%matplotlib inline"
   ]
  },
  {
   "cell_type": "markdown",
   "metadata": {},
   "source": [
    "### step1.找到每条数据距离哪个类中心最近  "
   ]
  },
  {
   "cell_type": "code",
   "execution_count": 2,
   "metadata": {
    "collapsed": true
   },
   "outputs": [],
   "source": [
    "def findClosestCentroids(X,initial_centroids):\n",
    "    m = X.shape[0]                  # 数据条数\n",
    "    K = initial_centroids.shape[0]  # 类的总数\n",
    "    dis = np.zeros((m,K))           # 存储计算每个点分别到K个类的距离\n",
    "    idx = np.zeros((m,1))           # 要返回的每条数据属于哪个类\n",
    "    \n",
    "    '''计算每个点到每个类中心的距离'''\n",
    "    for i in range(m):\n",
    "        for j in range(K):\n",
    "            dis[i,j] = np.dot((X[i,:]-initial_centroids[j,:]).reshape(1,-1),(X[i,:]-initial_centroids[j,:]).reshape(-1,1))\n",
    "    \n",
    "    '''返回dis每一行的最小值对应的列号，即为对应的类别\n",
    "    - np.min(dis, axis=1)返回每一行的最小值\n",
    "    - np.where(dis == np.min(dis, axis=1).reshape(-1,1)) 返回对应最小值的坐标\n",
    "     - 注意：可能最小值对应的坐标有多个，where都会找出来，所以返回时返回前m个需要的即可（因为对于多个最小值，属于哪个类别都可以）\n",
    "    '''  \n",
    "    dummy,idx = np.where(dis == np.min(dis, axis=1).reshape(-1,1))\n",
    "    return idx[0:dis.shape[0]]  # 注意截取一下"
   ]
  },
  {
   "cell_type": "markdown",
   "metadata": {},
   "source": [
    "### step2. 计算类中心"
   ]
  },
  {
   "cell_type": "code",
   "execution_count": 3,
   "metadata": {
    "collapsed": true
   },
   "outputs": [],
   "source": [
    "def computerCentroids(X,idx,K):\n",
    "    n = X.shape[1]\n",
    "    centroids = np.zeros((K,n))\n",
    "    for i in range(K):\n",
    "        centroids[i,:] = np.mean(X[np.ravel(idx==i),:], axis=0).reshape(1,-1)   # 索引要是一维的,axis=0为每一列，idx==i一次找出属于哪一类的，然后计算均值\n",
    "    return centroids"
   ]
  },
  {
   "cell_type": "markdown",
   "metadata": {},
   "source": [
    "### step3. 聚类算法"
   ]
  },
  {
   "cell_type": "code",
   "execution_count": 4,
   "metadata": {
    "collapsed": true
   },
   "outputs": [],
   "source": [
    "def runKMeans(X,initial_centroids,max_iters,plot_process):\n",
    "    m,n = X.shape                   # 数据条数和维度\n",
    "    K = initial_centroids.shape[0]  # 类数\n",
    "    centroids = initial_centroids   # 记录当前类中心\n",
    "    previous_centroids = centroids  # 记录上一次类中心\n",
    "    idx = np.zeros((m,1))           # 每条数据属于哪个类\n",
    "    \n",
    "    for i in range(max_iters):      # 迭代次数\n",
    "        print (u'迭代计算次数：%d'%(i+1))\n",
    "        idx = findClosestCentroids(X, centroids)\n",
    "        if plot_process:    # 如果绘制图像\n",
    "            plt = plotProcessKMeans(X,centroids,previous_centroids) # 画聚类中心的移动过程\n",
    "            previous_centroids = centroids  # 重置\n",
    "        centroids = computerCentroids(X, idx, K)    # 重新计算类中心\n",
    "    if plot_process:    # 显示最终的绘制结果\n",
    "        plt.show()\n",
    "    print (centroids)"
   ]
  },
  {
   "cell_type": "markdown",
   "metadata": {},
   "source": [
    "### 聚类中心移动过程   "
   ]
  },
  {
   "cell_type": "code",
   "execution_count": 5,
   "metadata": {
    "collapsed": true
   },
   "outputs": [],
   "source": [
    "def plotProcessKMeans(X,centroids,previous_centroids):\n",
    "    plt.scatter(X[:,0], X[:,1])     # 原数据的散点图\n",
    "    plt.plot(previous_centroids[:,0],previous_centroids[:,1],'rx',markersize=10,linewidth=5.0)  # 上一次聚类中心\n",
    "    plt.plot(centroids[:,0],centroids[:,1],'rx',markersize=10,linewidth=5.0)                    # 当前聚类中心\n",
    "    for j in range(centroids.shape[0]):\n",
    "        p1 = centroids[j,:]\n",
    "        p2 = previous_centroids[j,:]\n",
    "        plt.plot([p1[0],p2[0]],[p1[1],p2[1]],\"->\",linewidth=2.0)\n",
    "    return plt"
   ]
  },
  {
   "cell_type": "markdown",
   "metadata": {},
   "source": [
    "## 初始化类中心--随机取K个点作为聚类中心"
   ]
  },
  {
   "cell_type": "code",
   "execution_count": 6,
   "metadata": {
    "collapsed": true
   },
   "outputs": [],
   "source": [
    "def kMeansInitCentroids(X,K):\n",
    "    m = X.shape[0]\n",
    "    m_arr = np.arange(0,m)      # 生成0-m-1\n",
    "    centroids = np.zeros((K,X.shape[1]))\n",
    "    np.random.shuffle(m_arr)    # 打乱m_arr顺序    \n",
    "    rand_indices = m_arr[:K]    # 取前K个\n",
    "    centroids = X[rand_indices,:]\n",
    "    return centroids"
   ]
  },
  {
   "cell_type": "markdown",
   "metadata": {},
   "source": [
    "## 二维数据聚类过程演示"
   ]
  },
  {
   "cell_type": "code",
   "execution_count": 7,
   "metadata": {},
   "outputs": [
    {
     "name": "stdout",
     "output_type": "stream",
     "text": [
      "聚类过程展示...\n",
      "\n",
      "迭代计算次数：1\n",
      "迭代计算次数：2\n",
      "迭代计算次数：3\n",
      "迭代计算次数：4\n",
      "迭代计算次数：5\n",
      "迭代计算次数：6\n",
      "迭代计算次数：7\n",
      "迭代计算次数：8\n",
      "迭代计算次数：9\n",
      "迭代计算次数：10\n"
     ]
    },
    {
     "data": {
      "image/png": "[encoded data removed]",
      "text/plain": [
       "<matplotlib.figure.Figure at 0x1c210630>"
      ]
     },
     "metadata": {},
     "output_type": "display_data"
    },
    {
     "name": "stdout",
     "output_type": "stream",
     "text": [
      "[[ 1.95399466  5.02557006]\n",
      " [ 3.04367119  1.01541041]\n",
      " [ 6.03366736  3.00052511]]\n"
     ]
    }
   ],
   "source": [
    "print (u'聚类过程展示...\\n')\n",
    "data = spio.loadmat(\"data.mat\")\n",
    "X = data['X']\n",
    "K = 3   # 总类数\n",
    "initial_centroids = np.array([[3,3],[6,2],[8,5]])   # 初始化类中心\n",
    "max_iters = 10\n",
    "runKMeans(X,initial_centroids,max_iters,True)       # 执行K-Means聚类算法"
   ]
  }
 ],
 "metadata": {
  "kernelspec": {
   "display_name": "Python 2",
   "language": "python",
   "name": "python2"
  },
  "language_info": {
   "codemirror_mode": {
    "name": "ipython",
    "version": 2
   },
   "file_extension": ".py",
   "mimetype": "text/x-python",
   "name": "python",
   "nbconvert_exporter": "python",
   "pygments_lexer": "ipython2",
   "version": "2.7.13"
  }
 },
 "nbformat": 4,
 "nbformat_minor": 1
}
